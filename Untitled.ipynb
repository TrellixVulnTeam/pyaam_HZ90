{
 "cells": [
  {
   "cell_type": "code",
   "execution_count": 11,
   "metadata": {},
   "outputs": [],
   "source": [
    "import argparse\n",
    "from pyaam.muct import MuctDataset\n",
    "from pyaam.shape import ShapeModel\n",
    "from pyaam.patches import PatchesModel\n",
    "from pyaam.texture import TextureModel\n",
    "from pyaam.combined import CombinedModel\n",
    "from pyaam.detector import FaceDetector\n",
    "\n",
    "import numpy as np\n",
    "from pyaam.utils import pca, gram_schmid"
   ]
  },
  {
   "cell_type": "code",
   "execution_count": 2,
   "metadata": {},
   "outputs": [],
   "source": [
    "muct = MuctDataset()\n",
    "muct.load(clean=True)\n",
    "data = muct.all_lmks()\n",
    "imgs = muct.iterimages(mirror=True)"
   ]
  },
  {
   "cell_type": "code",
   "execution_count": 5,
   "metadata": {},
   "outputs": [],
   "source": [
    "frac = 0.99\n",
    "kmax = 20\n",
    "X = data.T"
   ]
  },
  {
   "cell_type": "code",
   "execution_count": 6,
   "metadata": {},
   "outputs": [],
   "source": [
    "n_samples = X.shape[1]\n",
    "n_points = X.shape[0] // 2"
   ]
  },
  {
   "cell_type": "code",
   "execution_count": 9,
   "metadata": {},
   "outputs": [],
   "source": [
    "def procrustes(X, max_iters=100, tolerance=1e-6):\n",
    "    \"\"\"removes global rigid motion from a collection of shapes\"\"\"\n",
    "    n_samples = X.shape[1]\n",
    "    n_points = X.shape[0] // 2\n",
    "    # copy of data to work on\n",
    "    P = X.copy()\n",
    "\n",
    "    # remove center of mass of each shape's instance\n",
    "    P[::2,:] -= P[::2,:].sum(axis=0) / n_points\n",
    "    P[1::2,:] -= P[1::2,:].sum(axis=0) / n_points\n",
    "\n",
    "    # optimize scale and rotation\n",
    "    C_old = None\n",
    "    for _ in range(max_iters):\n",
    "        # compute normalized canonical shape\n",
    "        C = P.sum(axis=1) / n_samples\n",
    "        C /= np.linalg.norm(C)\n",
    "\n",
    "        # are we done?\n",
    "        if C_old is not None and np.linalg.norm(C - C_old) < tolerance:\n",
    "            break\n",
    "\n",
    "        # keep copy of current estimate of canonical shape\n",
    "        C_old = C.copy()\n",
    "\n",
    "        # rotate and scale each shape to best match canonical shape\n",
    "        for i in range(n_samples):\n",
    "            R = rot_scale_align(P[:,i], C)\n",
    "            pts = np.row_stack((P[::2,i], P[1::2,i]))\n",
    "            P[:,i] = R.dot(pts).T.flatten()\n",
    "\n",
    "    # return procrustes aligned shapes\n",
    "    return P"
   ]
  },
  {
   "cell_type": "code",
   "execution_count": 13,
   "metadata": {},
   "outputs": [],
   "source": [
    "def rot_scale_align(src, dst):\n",
    "    \"\"\"computes the in-place rotation and scaling that best aligns\n",
    "    shape instance `src` to shape instance `dst`\"\"\"\n",
    "    # separate x and y\n",
    "    srcx, srcy = src[::2], src[1::2]\n",
    "    dstx, dsty = dst[::2], dst[1::2]\n",
    "    # construct and solve linear system\n",
    "    d = sum(pow(src, 2))\n",
    "    a = sum(srcx*dstx + srcy*dsty) / d\n",
    "    b = sum(srcx*dsty - srcy*dstx) / d\n",
    "    # return scale and rotation matrix\n",
    "    return np.array([[a,-b],[b,a]])"
   ]
  },
  {
   "cell_type": "code",
   "execution_count": 14,
   "metadata": {},
   "outputs": [],
   "source": [
    "Y = procrustes(X)"
   ]
  },
  {
   "cell_type": "code",
   "execution_count": 31,
   "metadata": {},
   "outputs": [
    {
     "data": {
      "text/plain": [
       "(152, 5830)"
      ]
     },
     "execution_count": 31,
     "metadata": {},
     "output_type": "execute_result"
    }
   ],
   "source": [
    "Y.shape"
   ]
  },
  {
   "cell_type": "code",
   "execution_count": 27,
   "metadata": {},
   "outputs": [],
   "source": [
    "\n",
    "def calc_rigid_basis(X):\n",
    "    \"\"\"model global transformation as linear subspace\"\"\"\n",
    "    n_samples = X.shape[1]\n",
    "    n_points = X.shape[0] // 2\n",
    "\n",
    "    # compute canonical shape\n",
    "    mean = X.mean(axis=1)\n",
    "\n",
    "    # construct basis for similarity transform\n",
    "    R = np.empty((2*n_points, 4), dtype=float)\n",
    "    R[::2,0] = mean[::2]\n",
    "    R[1::2,0] = mean[1::2]\n",
    "    R[::2,1] = -mean[1::2]\n",
    "    R[1::2,1] = mean[::2]\n",
    "    R[::2,2] = 1\n",
    "    R[1::2,2] = 0\n",
    "    R[::2,3] = 0\n",
    "    R[1::2,3] = 1\n",
    "\n",
    "    return gram_schmid(R)"
   ]
  },
  {
   "cell_type": "code",
   "execution_count": 28,
   "metadata": {},
   "outputs": [],
   "source": [
    "R = calc_rigid_basis(Y)"
   ]
  },
  {
   "cell_type": "code",
   "execution_count": 32,
   "metadata": {},
   "outputs": [
    {
     "data": {
      "text/plain": [
       "(152, 4)"
      ]
     },
     "execution_count": 32,
     "metadata": {},
     "output_type": "execute_result"
    }
   ],
   "source": [
    "R.shape"
   ]
  },
  {
   "cell_type": "code",
   "execution_count": 29,
   "metadata": {},
   "outputs": [],
   "source": [
    "P = R.T.dot(Y)"
   ]
  },
  {
   "cell_type": "code",
   "execution_count": 33,
   "metadata": {},
   "outputs": [],
   "source": [
    "dY = Y - R.dot(P)"
   ]
  },
  {
   "cell_type": "code",
   "execution_count": 34,
   "metadata": {},
   "outputs": [
    {
     "data": {
      "text/plain": [
       "(152, 5830)"
      ]
     },
     "execution_count": 34,
     "metadata": {},
     "output_type": "execute_result"
    }
   ],
   "source": [
    "dY.shape"
   ]
  },
  {
   "cell_type": "code",
   "execution_count": 35,
   "metadata": {},
   "outputs": [],
   "source": [
    "D = pca(dY, frac, min(kmax, n_samples-1, n_points-1))"
   ]
  },
  {
   "cell_type": "code",
   "execution_count": 36,
   "metadata": {},
   "outputs": [
    {
     "data": {
      "text/plain": [
       "(152, 18)"
      ]
     },
     "execution_count": 36,
     "metadata": {},
     "output_type": "execute_result"
    }
   ],
   "source": [
    "D.shape"
   ]
  },
  {
   "cell_type": "code",
   "execution_count": 37,
   "metadata": {},
   "outputs": [],
   "source": [
    "V = np.concatenate((R,D), axis=1)"
   ]
  },
  {
   "cell_type": "code",
   "execution_count": 38,
   "metadata": {},
   "outputs": [
    {
     "data": {
      "text/plain": [
       "(152, 22)"
      ]
     },
     "execution_count": 38,
     "metadata": {},
     "output_type": "execute_result"
    }
   ],
   "source": [
    "V.shape"
   ]
  },
  {
   "cell_type": "code",
   "execution_count": null,
   "metadata": {},
   "outputs": [],
   "source": []
  }
 ],
 "metadata": {
  "kernelspec": {
   "display_name": "Python 3",
   "language": "python",
   "name": "python3"
  },
  "language_info": {
   "codemirror_mode": {
    "name": "ipython",
    "version": 3
   },
   "file_extension": ".py",
   "mimetype": "text/x-python",
   "name": "python",
   "nbconvert_exporter": "python",
   "pygments_lexer": "ipython3",
   "version": "3.7.0"
  }
 },
 "nbformat": 4,
 "nbformat_minor": 2
}
